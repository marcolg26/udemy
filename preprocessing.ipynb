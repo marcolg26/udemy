{
  "cells": [
    {
      "cell_type": "markdown",
      "metadata": {
        "id": "tNHCsT2oS9cg"
      },
      "source": [
        "# Create Project"
      ]
    },
    {
      "cell_type": "code",
      "execution_count": 2,
      "metadata": {
        "colab": {
          "base_uri": "https://localhost:8080/",
          "height": 458
        },
        "id": "HPX_PLogMav0",
        "outputId": "654a1850-b864-4498-eeea-5ac07c0183f6"
      },
      "outputs": [
        {
          "output_type": "stream",
          "name": "stdout",
          "text": [
            "Mounted at /content/drive\n",
            "/content/drive/My Drive\n"
          ]
        },
        {
          "output_type": "execute_result",
          "data": {
            "text/plain": [
              "                id  course_id  rate                       date   display_name  \\\n",
              "0         88962892    3173036   1.0  2021-06-29T18:54:25-07:00          Rahul   \n",
              "1        125535470    4913148   5.0  2022-10-07T11:17:41-07:00          Marlo   \n",
              "2         68767147    3178386   3.5  2020-10-19T06:35:37-07:00  Yamila Andrea   \n",
              "3        125029758    3175814   5.0  2022-09-30T21:13:49-07:00     Jacqueline   \n",
              "4         76584052    3174896   4.5  2021-01-30T08:45:11-08:00        Anthony   \n",
              "...            ...        ...   ...                        ...            ...   \n",
              "9411722   54471142     567828   5.0  2020-05-10T08:06:29-07:00        Rogelio   \n",
              "9411723   54469534     567828   5.0  2020-05-10T07:51:34-07:00    Rao Saurabh   \n",
              "9411724   54466660     567828   5.0  2020-05-10T07:22:30-07:00        Raveesh   \n",
              "9411725   54462674     567828   5.0  2020-05-10T06:42:43-07:00        Wendell   \n",
              "9411726   54456596     567828   5.0  2020-05-10T05:37:15-07:00        FATIMAH   \n",
              "\n",
              "                                                   comment  \n",
              "0        I think a beginner needs more than you think.\\...  \n",
              "1        Aviva is such a natural teacher and healer/hea...  \n",
              "2        Muy buena la introducción para entender la bas...  \n",
              "3        This course is the best on Udemy.  This breakd...  \n",
              "4        I found this course very helpful. It was full ...  \n",
              "...                                                    ...  \n",
              "9411722  I waited to completely finish the course to ra...  \n",
              "9411723                     it was amazing. i learnt a lot  \n",
              "9411724  Just started with the course and so far the pa...  \n",
              "9411725  So far, this course has been a really good and...  \n",
              "9411726                                              Good.  \n",
              "\n",
              "[9411727 rows x 6 columns]"
            ],
            "text/html": [
              "\n",
              "  <div id=\"df-1fa628a0-1574-4bb0-b3b3-bd495d701bc8\">\n",
              "    <div class=\"colab-df-container\">\n",
              "      <div>\n",
              "<style scoped>\n",
              "    .dataframe tbody tr th:only-of-type {\n",
              "        vertical-align: middle;\n",
              "    }\n",
              "\n",
              "    .dataframe tbody tr th {\n",
              "        vertical-align: top;\n",
              "    }\n",
              "\n",
              "    .dataframe thead th {\n",
              "        text-align: right;\n",
              "    }\n",
              "</style>\n",
              "<table border=\"1\" class=\"dataframe\">\n",
              "  <thead>\n",
              "    <tr style=\"text-align: right;\">\n",
              "      <th></th>\n",
              "      <th>id</th>\n",
              "      <th>course_id</th>\n",
              "      <th>rate</th>\n",
              "      <th>date</th>\n",
              "      <th>display_name</th>\n",
              "      <th>comment</th>\n",
              "    </tr>\n",
              "  </thead>\n",
              "  <tbody>\n",
              "    <tr>\n",
              "      <th>0</th>\n",
              "      <td>88962892</td>\n",
              "      <td>3173036</td>\n",
              "      <td>1.0</td>\n",
              "      <td>2021-06-29T18:54:25-07:00</td>\n",
              "      <td>Rahul</td>\n",
              "      <td>I think a beginner needs more than you think.\\...</td>\n",
              "    </tr>\n",
              "    <tr>\n",
              "      <th>1</th>\n",
              "      <td>125535470</td>\n",
              "      <td>4913148</td>\n",
              "      <td>5.0</td>\n",
              "      <td>2022-10-07T11:17:41-07:00</td>\n",
              "      <td>Marlo</td>\n",
              "      <td>Aviva is such a natural teacher and healer/hea...</td>\n",
              "    </tr>\n",
              "    <tr>\n",
              "      <th>2</th>\n",
              "      <td>68767147</td>\n",
              "      <td>3178386</td>\n",
              "      <td>3.5</td>\n",
              "      <td>2020-10-19T06:35:37-07:00</td>\n",
              "      <td>Yamila Andrea</td>\n",
              "      <td>Muy buena la introducción para entender la bas...</td>\n",
              "    </tr>\n",
              "    <tr>\n",
              "      <th>3</th>\n",
              "      <td>125029758</td>\n",
              "      <td>3175814</td>\n",
              "      <td>5.0</td>\n",
              "      <td>2022-09-30T21:13:49-07:00</td>\n",
              "      <td>Jacqueline</td>\n",
              "      <td>This course is the best on Udemy.  This breakd...</td>\n",
              "    </tr>\n",
              "    <tr>\n",
              "      <th>4</th>\n",
              "      <td>76584052</td>\n",
              "      <td>3174896</td>\n",
              "      <td>4.5</td>\n",
              "      <td>2021-01-30T08:45:11-08:00</td>\n",
              "      <td>Anthony</td>\n",
              "      <td>I found this course very helpful. It was full ...</td>\n",
              "    </tr>\n",
              "    <tr>\n",
              "      <th>...</th>\n",
              "      <td>...</td>\n",
              "      <td>...</td>\n",
              "      <td>...</td>\n",
              "      <td>...</td>\n",
              "      <td>...</td>\n",
              "      <td>...</td>\n",
              "    </tr>\n",
              "    <tr>\n",
              "      <th>9411722</th>\n",
              "      <td>54471142</td>\n",
              "      <td>567828</td>\n",
              "      <td>5.0</td>\n",
              "      <td>2020-05-10T08:06:29-07:00</td>\n",
              "      <td>Rogelio</td>\n",
              "      <td>I waited to completely finish the course to ra...</td>\n",
              "    </tr>\n",
              "    <tr>\n",
              "      <th>9411723</th>\n",
              "      <td>54469534</td>\n",
              "      <td>567828</td>\n",
              "      <td>5.0</td>\n",
              "      <td>2020-05-10T07:51:34-07:00</td>\n",
              "      <td>Rao Saurabh</td>\n",
              "      <td>it was amazing. i learnt a lot</td>\n",
              "    </tr>\n",
              "    <tr>\n",
              "      <th>9411724</th>\n",
              "      <td>54466660</td>\n",
              "      <td>567828</td>\n",
              "      <td>5.0</td>\n",
              "      <td>2020-05-10T07:22:30-07:00</td>\n",
              "      <td>Raveesh</td>\n",
              "      <td>Just started with the course and so far the pa...</td>\n",
              "    </tr>\n",
              "    <tr>\n",
              "      <th>9411725</th>\n",
              "      <td>54462674</td>\n",
              "      <td>567828</td>\n",
              "      <td>5.0</td>\n",
              "      <td>2020-05-10T06:42:43-07:00</td>\n",
              "      <td>Wendell</td>\n",
              "      <td>So far, this course has been a really good and...</td>\n",
              "    </tr>\n",
              "    <tr>\n",
              "      <th>9411726</th>\n",
              "      <td>54456596</td>\n",
              "      <td>567828</td>\n",
              "      <td>5.0</td>\n",
              "      <td>2020-05-10T05:37:15-07:00</td>\n",
              "      <td>FATIMAH</td>\n",
              "      <td>Good.</td>\n",
              "    </tr>\n",
              "  </tbody>\n",
              "</table>\n",
              "<p>9411727 rows × 6 columns</p>\n",
              "</div>\n",
              "      <button class=\"colab-df-convert\" onclick=\"convertToInteractive('df-1fa628a0-1574-4bb0-b3b3-bd495d701bc8')\"\n",
              "              title=\"Convert this dataframe to an interactive table.\"\n",
              "              style=\"display:none;\">\n",
              "        \n",
              "  <svg xmlns=\"http://www.w3.org/2000/svg\" height=\"24px\"viewBox=\"0 0 24 24\"\n",
              "       width=\"24px\">\n",
              "    <path d=\"M0 0h24v24H0V0z\" fill=\"none\"/>\n",
              "    <path d=\"M18.56 5.44l.94 2.06.94-2.06 2.06-.94-2.06-.94-.94-2.06-.94 2.06-2.06.94zm-11 1L8.5 8.5l.94-2.06 2.06-.94-2.06-.94L8.5 2.5l-.94 2.06-2.06.94zm10 10l.94 2.06.94-2.06 2.06-.94-2.06-.94-.94-2.06-.94 2.06-2.06.94z\"/><path d=\"M17.41 7.96l-1.37-1.37c-.4-.4-.92-.59-1.43-.59-.52 0-1.04.2-1.43.59L10.3 9.45l-7.72 7.72c-.78.78-.78 2.05 0 2.83L4 21.41c.39.39.9.59 1.41.59.51 0 1.02-.2 1.41-.59l7.78-7.78 2.81-2.81c.8-.78.8-2.07 0-2.86zM5.41 20L4 18.59l7.72-7.72 1.47 1.35L5.41 20z\"/>\n",
              "  </svg>\n",
              "      </button>\n",
              "      \n",
              "  <style>\n",
              "    .colab-df-container {\n",
              "      display:flex;\n",
              "      flex-wrap:wrap;\n",
              "      gap: 12px;\n",
              "    }\n",
              "\n",
              "    .colab-df-convert {\n",
              "      background-color: #E8F0FE;\n",
              "      border: none;\n",
              "      border-radius: 50%;\n",
              "      cursor: pointer;\n",
              "      display: none;\n",
              "      fill: #1967D2;\n",
              "      height: 32px;\n",
              "      padding: 0 0 0 0;\n",
              "      width: 32px;\n",
              "    }\n",
              "\n",
              "    .colab-df-convert:hover {\n",
              "      background-color: #E2EBFA;\n",
              "      box-shadow: 0px 1px 2px rgba(60, 64, 67, 0.3), 0px 1px 3px 1px rgba(60, 64, 67, 0.15);\n",
              "      fill: #174EA6;\n",
              "    }\n",
              "\n",
              "    [theme=dark] .colab-df-convert {\n",
              "      background-color: #3B4455;\n",
              "      fill: #D2E3FC;\n",
              "    }\n",
              "\n",
              "    [theme=dark] .colab-df-convert:hover {\n",
              "      background-color: #434B5C;\n",
              "      box-shadow: 0px 1px 3px 1px rgba(0, 0, 0, 0.15);\n",
              "      filter: drop-shadow(0px 1px 2px rgba(0, 0, 0, 0.3));\n",
              "      fill: #FFFFFF;\n",
              "    }\n",
              "  </style>\n",
              "\n",
              "      <script>\n",
              "        const buttonEl =\n",
              "          document.querySelector('#df-1fa628a0-1574-4bb0-b3b3-bd495d701bc8 button.colab-df-convert');\n",
              "        buttonEl.style.display =\n",
              "          google.colab.kernel.accessAllowed ? 'block' : 'none';\n",
              "\n",
              "        async function convertToInteractive(key) {\n",
              "          const element = document.querySelector('#df-1fa628a0-1574-4bb0-b3b3-bd495d701bc8');\n",
              "          const dataTable =\n",
              "            await google.colab.kernel.invokeFunction('convertToInteractive',\n",
              "                                                     [key], {});\n",
              "          if (!dataTable) return;\n",
              "\n",
              "          const docLinkHtml = 'Like what you see? Visit the ' +\n",
              "            '<a target=\"_blank\" href=https://colab.research.google.com/notebooks/data_table.ipynb>data table notebook</a>'\n",
              "            + ' to learn more about interactive tables.';\n",
              "          element.innerHTML = '';\n",
              "          dataTable['output_type'] = 'display_data';\n",
              "          await google.colab.output.renderOutput(dataTable, element);\n",
              "          const docLink = document.createElement('div');\n",
              "          docLink.innerHTML = docLinkHtml;\n",
              "          element.appendChild(docLink);\n",
              "        }\n",
              "      </script>\n",
              "    </div>\n",
              "  </div>\n",
              "  "
            ]
          },
          "metadata": {},
          "execution_count": 2
        }
      ],
      "source": [
        "\n",
        "from google.colab import drive\n",
        "import pandas as pd\n",
        "import matplotlib.pyplot as plt\n",
        "import seaborn as sns\n",
        " \n",
        "drive.mount('/content/drive')\n",
        "\n",
        "%cd /content/drive/My Drive/\n",
        "\n",
        "path = \"comments.csv\"\n",
        "dataframe = pd.read_csv(path)\n",
        "\n",
        "dataframe"
      ]
    },
    {
      "cell_type": "code",
      "execution_count": 3,
      "metadata": {
        "colab": {
          "base_uri": "https://localhost:8080/"
        },
        "id": "vA3zXP1dSS-t",
        "outputId": "c5a0c641-7941-4d36-820d-84eea36d7bd8"
      },
      "outputs": [
        {
          "output_type": "execute_result",
          "data": {
            "text/plain": [
              "id                  0\n",
              "course_id           0\n",
              "rate                0\n",
              "date                0\n",
              "display_name    75362\n",
              "comment          6333\n",
              "dtype: int64"
            ]
          },
          "metadata": {},
          "execution_count": 3
        }
      ],
      "source": [
        "#dataframe.info()\n",
        "dataframe.isnull().sum()"
      ]
    },
    {
      "cell_type": "markdown",
      "metadata": {
        "id": "icH9ayaqU_l_"
      },
      "source": [
        "# **Explore the data**\n"
      ]
    },
    {
      "cell_type": "markdown",
      "source": [
        "## Distribuzione"
      ],
      "metadata": {
        "id": "QdorpR5Zb3Nw"
      }
    },
    {
      "cell_type": "code",
      "execution_count": 4,
      "metadata": {
        "colab": {
          "base_uri": "https://localhost:8080/",
          "height": 608
        },
        "id": "hqdhaYTdT2fa",
        "outputId": "8b0915a4-a828-4330-99c2-900289dc9c7a"
      },
      "outputs": [
        {
          "output_type": "display_data",
          "data": {
            "text/plain": [
              "<Figure size 720x720 with 4 Axes>"
            ],
            "image/png": "[encoded data removed]"
          },
          "metadata": {
            "needs_background": "light"
          }
        }
      ],
      "source": [
        "dataframe.hist(bins=20, figsize=(10, 10))\n",
        "plt.show()"
      ]
    },
    {
      "cell_type": "code",
      "source": [
        "#sns.pairplot(dataframe)"
      ],
      "metadata": {
        "id": "4OlP1E8acqBI"
      },
      "execution_count": 5,
      "outputs": []
    },
    {
      "cell_type": "markdown",
      "source": [
        "## Correlazione"
      ],
      "metadata": {
        "id": "thMV7w0icLBX"
      }
    },
    {
      "cell_type": "code",
      "execution_count": 6,
      "metadata": {
        "colab": {
          "base_uri": "https://localhost:8080/",
          "height": 270
        },
        "id": "DQcWXwHpVBZ0",
        "outputId": "376ea4c6-8d08-4f67-a981-3c81838b6ff9"
      },
      "outputs": [
        {
          "output_type": "display_data",
          "data": {
            "text/plain": [
              "<Figure size 432x288 with 2 Axes>"
            ],
            "image/png": "[encoded data removed]"
          },
          "metadata": {
            "needs_background": "light"
          }
        }
      ],
      "source": [
        "#dataframe.corr()\n",
        "#dataplot = sns.heatmap(dataframe.corr(), cmap=\"YlGnBu\", annot=True)\n",
        "#plt.show()"
      ]
    },
    {
      "cell_type": "markdown",
      "source": [
        "# Pre-process the data\n"
      ],
      "metadata": {
        "id": "ouC2dfOGfSuF"
      }
    },
    {
      "cell_type": "markdown",
      "source": [
        "## Cleaning"
      ],
      "metadata": {
        "id": "X3Jf3BeFfaVO"
      }
    },
    {
      "cell_type": "code",
      "source": [
        "dups = dataframe.duplicated()\n",
        "\n",
        "print(dups.any())\n",
        "\n",
        "#print(dataframe[dups])\n",
        "\n",
        "dataframe.drop_duplicates(inplace=True)\n"
      ],
      "metadata": {
        "colab": {
          "base_uri": "https://localhost:8080/"
        },
        "id": "i4_Gi0v_eyRb",
        "outputId": "88400bf5-585d-4bc5-e60b-8023f564d79f"
      },
      "execution_count": 7,
      "outputs": [
        {
          "output_type": "stream",
          "name": "stdout",
          "text": [
            "False\n"
          ]
        }
      ]
    },
    {
      "cell_type": "markdown",
      "source": [
        "## Rimozione di colonne inutili\n",
        "\n"
      ],
      "metadata": {
        "id": "8IXtZoa7QRKe"
      }
    },
    {
      "cell_type": "code",
      "source": [
        "dataframe = dataframe.drop('comment', axis=1)\n",
        "\n",
        "dataframe"
      ],
      "metadata": {
        "colab": {
          "base_uri": "https://localhost:8080/",
          "height": 424
        },
        "id": "jc2wIu44QY2P",
        "outputId": "ad828f2b-c962-4c89-b6ba-ce5901ebb11f"
      },
      "execution_count": 8,
      "outputs": [
        {
          "output_type": "execute_result",
          "data": {
            "text/plain": [
              "                id  course_id  rate                       date   display_name\n",
              "0         88962892    3173036   1.0  2021-06-29T18:54:25-07:00          Rahul\n",
              "1        125535470    4913148   5.0  2022-10-07T11:17:41-07:00          Marlo\n",
              "2         68767147    3178386   3.5  2020-10-19T06:35:37-07:00  Yamila Andrea\n",
              "3        125029758    3175814   5.0  2022-09-30T21:13:49-07:00     Jacqueline\n",
              "4         76584052    3174896   4.5  2021-01-30T08:45:11-08:00        Anthony\n",
              "...            ...        ...   ...                        ...            ...\n",
              "9411722   54471142     567828   5.0  2020-05-10T08:06:29-07:00        Rogelio\n",
              "9411723   54469534     567828   5.0  2020-05-10T07:51:34-07:00    Rao Saurabh\n",
              "9411724   54466660     567828   5.0  2020-05-10T07:22:30-07:00        Raveesh\n",
              "9411725   54462674     567828   5.0  2020-05-10T06:42:43-07:00        Wendell\n",
              "9411726   54456596     567828   5.0  2020-05-10T05:37:15-07:00        FATIMAH\n",
              "\n",
              "[9411727 rows x 5 columns]"
            ],
            "text/html": [
              "\n",
              "  <div id=\"df-6b2afb2c-260b-4b10-be63-4606a92062f6\">\n",
              "    <div class=\"colab-df-container\">\n",
              "      <div>\n",
              "<style scoped>\n",
              "    .dataframe tbody tr th:only-of-type {\n",
              "        vertical-align: middle;\n",
              "    }\n",
              "\n",
              "    .dataframe tbody tr th {\n",
              "        vertical-align: top;\n",
              "    }\n",
              "\n",
              "    .dataframe thead th {\n",
              "        text-align: right;\n",
              "    }\n",
              "</style>\n",
              "<table border=\"1\" class=\"dataframe\">\n",
              "  <thead>\n",
              "    <tr style=\"text-align: right;\">\n",
              "      <th></th>\n",
              "      <th>id</th>\n",
              "      <th>course_id</th>\n",
              "      <th>rate</th>\n",
              "      <th>date</th>\n",
              "      <th>display_name</th>\n",
              "    </tr>\n",
              "  </thead>\n",
              "  <tbody>\n",
              "    <tr>\n",
              "      <th>0</th>\n",
              "      <td>88962892</td>\n",
              "      <td>3173036</td>\n",
              "      <td>1.0</td>\n",
              "      <td>2021-06-29T18:54:25-07:00</td>\n",
              "      <td>Rahul</td>\n",
              "    </tr>\n",
              "    <tr>\n",
              "      <th>1</th>\n",
              "      <td>125535470</td>\n",
              "      <td>4913148</td>\n",
              "      <td>5.0</td>\n",
              "      <td>2022-10-07T11:17:41-07:00</td>\n",
              "      <td>Marlo</td>\n",
              "    </tr>\n",
              "    <tr>\n",
              "      <th>2</th>\n",
              "      <td>68767147</td>\n",
              "      <td>3178386</td>\n",
              "      <td>3.5</td>\n",
              "      <td>2020-10-19T06:35:37-07:00</td>\n",
              "      <td>Yamila Andrea</td>\n",
              "    </tr>\n",
              "    <tr>\n",
              "      <th>3</th>\n",
              "      <td>125029758</td>\n",
              "      <td>3175814</td>\n",
              "      <td>5.0</td>\n",
              "      <td>2022-09-30T21:13:49-07:00</td>\n",
              "      <td>Jacqueline</td>\n",
              "    </tr>\n",
              "    <tr>\n",
              "      <th>4</th>\n",
              "      <td>76584052</td>\n",
              "      <td>3174896</td>\n",
              "      <td>4.5</td>\n",
              "      <td>2021-01-30T08:45:11-08:00</td>\n",
              "      <td>Anthony</td>\n",
              "    </tr>\n",
              "    <tr>\n",
              "      <th>...</th>\n",
              "      <td>...</td>\n",
              "      <td>...</td>\n",
              "      <td>...</td>\n",
              "      <td>...</td>\n",
              "      <td>...</td>\n",
              "    </tr>\n",
              "    <tr>\n",
              "      <th>9411722</th>\n",
              "      <td>54471142</td>\n",
              "      <td>567828</td>\n",
              "      <td>5.0</td>\n",
              "      <td>2020-05-10T08:06:29-07:00</td>\n",
              "      <td>Rogelio</td>\n",
              "    </tr>\n",
              "    <tr>\n",
              "      <th>9411723</th>\n",
              "      <td>54469534</td>\n",
              "      <td>567828</td>\n",
              "      <td>5.0</td>\n",
              "      <td>2020-05-10T07:51:34-07:00</td>\n",
              "      <td>Rao Saurabh</td>\n",
              "    </tr>\n",
              "    <tr>\n",
              "      <th>9411724</th>\n",
              "      <td>54466660</td>\n",
              "      <td>567828</td>\n",
              "      <td>5.0</td>\n",
              "      <td>2020-05-10T07:22:30-07:00</td>\n",
              "      <td>Raveesh</td>\n",
              "    </tr>\n",
              "    <tr>\n",
              "      <th>9411725</th>\n",
              "      <td>54462674</td>\n",
              "      <td>567828</td>\n",
              "      <td>5.0</td>\n",
              "      <td>2020-05-10T06:42:43-07:00</td>\n",
              "      <td>Wendell</td>\n",
              "    </tr>\n",
              "    <tr>\n",
              "      <th>9411726</th>\n",
              "      <td>54456596</td>\n",
              "      <td>567828</td>\n",
              "      <td>5.0</td>\n",
              "      <td>2020-05-10T05:37:15-07:00</td>\n",
              "      <td>FATIMAH</td>\n",
              "    </tr>\n",
              "  </tbody>\n",
              "</table>\n",
              "<p>9411727 rows × 5 columns</p>\n",
              "</div>\n",
              "      <button class=\"colab-df-convert\" onclick=\"convertToInteractive('df-6b2afb2c-260b-4b10-be63-4606a92062f6')\"\n",
              "              title=\"Convert this dataframe to an interactive table.\"\n",
              "              style=\"display:none;\">\n",
              "        \n",
              "  <svg xmlns=\"http://www.w3.org/2000/svg\" height=\"24px\"viewBox=\"0 0 24 24\"\n",
              "       width=\"24px\">\n",
              "    <path d=\"M0 0h24v24H0V0z\" fill=\"none\"/>\n",
              "    <path d=\"M18.56 5.44l.94 2.06.94-2.06 2.06-.94-2.06-.94-.94-2.06-.94 2.06-2.06.94zm-11 1L8.5 8.5l.94-2.06 2.06-.94-2.06-.94L8.5 2.5l-.94 2.06-2.06.94zm10 10l.94 2.06.94-2.06 2.06-.94-2.06-.94-.94-2.06-.94 2.06-2.06.94z\"/><path d=\"M17.41 7.96l-1.37-1.37c-.4-.4-.92-.59-1.43-.59-.52 0-1.04.2-1.43.59L10.3 9.45l-7.72 7.72c-.78.78-.78 2.05 0 2.83L4 21.41c.39.39.9.59 1.41.59.51 0 1.02-.2 1.41-.59l7.78-7.78 2.81-2.81c.8-.78.8-2.07 0-2.86zM5.41 20L4 18.59l7.72-7.72 1.47 1.35L5.41 20z\"/>\n",
              "  </svg>\n",
              "      </button>\n",
              "      \n",
              "  <style>\n",
              "    .colab-df-container {\n",
              "      display:flex;\n",
              "      flex-wrap:wrap;\n",
              "      gap: 12px;\n",
              "    }\n",
              "\n",
              "    .colab-df-convert {\n",
              "      background-color: #E8F0FE;\n",
              "      border: none;\n",
              "      border-radius: 50%;\n",
              "      cursor: pointer;\n",
              "      display: none;\n",
              "      fill: #1967D2;\n",
              "      height: 32px;\n",
              "      padding: 0 0 0 0;\n",
              "      width: 32px;\n",
              "    }\n",
              "\n",
              "    .colab-df-convert:hover {\n",
              "      background-color: #E2EBFA;\n",
              "      box-shadow: 0px 1px 2px rgba(60, 64, 67, 0.3), 0px 1px 3px 1px rgba(60, 64, 67, 0.15);\n",
              "      fill: #174EA6;\n",
              "    }\n",
              "\n",
              "    [theme=dark] .colab-df-convert {\n",
              "      background-color: #3B4455;\n",
              "      fill: #D2E3FC;\n",
              "    }\n",
              "\n",
              "    [theme=dark] .colab-df-convert:hover {\n",
              "      background-color: #434B5C;\n",
              "      box-shadow: 0px 1px 3px 1px rgba(0, 0, 0, 0.15);\n",
              "      filter: drop-shadow(0px 1px 2px rgba(0, 0, 0, 0.3));\n",
              "      fill: #FFFFFF;\n",
              "    }\n",
              "  </style>\n",
              "\n",
              "      <script>\n",
              "        const buttonEl =\n",
              "          document.querySelector('#df-6b2afb2c-260b-4b10-be63-4606a92062f6 button.colab-df-convert');\n",
              "        buttonEl.style.display =\n",
              "          google.colab.kernel.accessAllowed ? 'block' : 'none';\n",
              "\n",
              "        async function convertToInteractive(key) {\n",
              "          const element = document.querySelector('#df-6b2afb2c-260b-4b10-be63-4606a92062f6');\n",
              "          const dataTable =\n",
              "            await google.colab.kernel.invokeFunction('convertToInteractive',\n",
              "                                                     [key], {});\n",
              "          if (!dataTable) return;\n",
              "\n",
              "          const docLinkHtml = 'Like what you see? Visit the ' +\n",
              "            '<a target=\"_blank\" href=https://colab.research.google.com/notebooks/data_table.ipynb>data table notebook</a>'\n",
              "            + ' to learn more about interactive tables.';\n",
              "          element.innerHTML = '';\n",
              "          dataTable['output_type'] = 'display_data';\n",
              "          await google.colab.output.renderOutput(dataTable, element);\n",
              "          const docLink = document.createElement('div');\n",
              "          docLink.innerHTML = docLinkHtml;\n",
              "          element.appendChild(docLink);\n",
              "        }\n",
              "      </script>\n",
              "    </div>\n",
              "  </div>\n",
              "  "
            ]
          },
          "metadata": {},
          "execution_count": 8
        }
      ]
    },
    {
      "cell_type": "markdown",
      "source": [
        "# Nuova sezione"
      ],
      "metadata": {
        "id": "bXyydu_6Snjm"
      }
    },
    {
      "cell_type": "code",
      "source": [
        "dataframe.to_csv('comments_edited.csv')"
      ],
      "metadata": {
        "id": "sq1zKsV1SqYr"
      },
      "execution_count": 9,
      "outputs": []
    }
  ],
  "metadata": {
    "colab": {
      "provenance": [],
      "toc_visible": true
    },
    "kernelspec": {
      "display_name": "Python 3",
      "name": "python3"
    },
    "language_info": {
      "name": "python"
    }
  },
  "nbformat": 4,
  "nbformat_minor": 0
}