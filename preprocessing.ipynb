{
  "cells": [
    {
      "attachments": {},
      "cell_type": "markdown",
      "metadata": {
        "id": "tNHCsT2oS9cg"
      },
      "source": [
        "# Caricamento dei database"
      ]
    },
    {
      "cell_type": "code",
      "execution_count": null,
      "metadata": {
        "colab": {
          "base_uri": "https://localhost:8080/",
          "height": 458
        },
        "id": "HPX_PLogMav0",
        "outputId": "654a1850-b864-4498-eeea-5ac07c0183f6"
      },
      "outputs": [],
      "source": [
        "import pandas as pd\n",
        "import matplotlib.pyplot as plt\n",
        "import seaborn as sns\n",
        " \n",
        "comments = pd.read_csv(\"comments.csv\")\n",
        "courses = pd.read_csv(\"courses.csv\")\n",
        "\n",
        "comments"
      ]
    },
    {
      "cell_type": "code",
      "execution_count": null,
      "metadata": {},
      "outputs": [],
      "source": [
        "courses"
      ]
    },
    {
      "attachments": {},
      "cell_type": "markdown",
      "metadata": {},
      "source": [
        "Informazioni sulle tabelle ed eventuali valori vuoti"
      ]
    },
    {
      "cell_type": "code",
      "execution_count": null,
      "metadata": {
        "colab": {
          "base_uri": "https://localhost:8080/"
        },
        "id": "vA3zXP1dSS-t",
        "outputId": "c5a0c641-7941-4d36-820d-84eea36d7bd8"
      },
      "outputs": [],
      "source": [
        "\n",
        "#comments.info()\n",
        "comments.isnull().sum()\n"
      ]
    },
    {
      "cell_type": "code",
      "execution_count": null,
      "metadata": {},
      "outputs": [],
      "source": [
        "#courses.isnull().sum()\n",
        "courses.info()"
      ]
    },
    {
      "attachments": {},
      "cell_type": "markdown",
      "metadata": {
        "id": "ouC2dfOGfSuF"
      },
      "source": [
        "# Pre-processing\n"
      ]
    },
    {
      "attachments": {},
      "cell_type": "markdown",
      "metadata": {
        "id": "X3Jf3BeFfaVO"
      },
      "source": [
        "## Cleaning\n",
        "\n",
        "Rimozione di eventuali colonne duplicate"
      ]
    },
    {
      "cell_type": "code",
      "execution_count": null,
      "metadata": {
        "colab": {
          "base_uri": "https://localhost:8080/"
        },
        "id": "i4_Gi0v_eyRb",
        "outputId": "88400bf5-585d-4bc5-e60b-8023f564d79f"
      },
      "outputs": [],
      "source": [
        "dups = comments.duplicated()\n",
        "print(dups.any())\n",
        "#print(comments[dups])\n",
        "#comments.drop_duplicates(inplace=True)\n"
      ]
    },
    {
      "attachments": {},
      "cell_type": "markdown",
      "metadata": {},
      "source": [
        "## Rimozione di righe\n",
        "\n",
        "Rimozione di corsi (i commenti relativi) non di interesse. \n",
        "- eliminazione di tutte le lingue tranne Inglese, Italiano e Spagnolo\n",
        "- eliminazione di tutti i corsi con valutazione inferiore a 4 stelle"
      ]
    },
    {
      "cell_type": "code",
      "execution_count": null,
      "metadata": {},
      "outputs": [],
      "source": [
        "courses = courses[courses['language'].isin(['English', 'Italian', 'Spanish'])]\n",
        "courses = courses[courses['avg_rating'] >= 4.0]\n",
        "#courses"
      ]
    },
    {
      "cell_type": "code",
      "execution_count": null,
      "metadata": {},
      "outputs": [],
      "source": [
        "courses[\"id\"].unique()\n",
        "\n",
        "comments = comments[comments['course_id'].isin(courses[\"id\"].unique())]\n",
        "comments = comments[comments['comment'].str.len() >= 160]\n",
        "\n",
        "comments"
      ]
    },
    {
      "attachments": {},
      "cell_type": "markdown",
      "metadata": {
        "id": "8IXtZoa7QRKe"
      },
      "source": [
        "## Rimozione di colonne\n",
        "\n",
        "Rimozione colonne non utili in modo da ridurre la dimensione dei file csv.\n",
        "\n",
        "Commenti:\n",
        "- eliminazione ID\n",
        "- eliminazione ora dal campo \"date\"\n",
        "\n",
        "\n",
        "Corsi:\n",
        "- eliminazione campo \"is_paid\"\n",
        "\n"
      ]
    },
    {
      "cell_type": "code",
      "execution_count": null,
      "metadata": {
        "colab": {
          "base_uri": "https://localhost:8080/",
          "height": 424
        },
        "id": "jc2wIu44QY2P",
        "outputId": "ad828f2b-c962-4c89-b6ba-ce5901ebb11f"
      },
      "outputs": [],
      "source": [
        "comments = comments.drop('id', axis=1) \n",
        "courses = courses.drop('is_paid', axis=1)\n",
        "\n",
        "comments['date'] = pd.to_datetime(comments['date'], errors='coerce', utc=True).dt.strftime('%Y-%m-%d') \n",
        "\n",
        "comments"
      ]
    },
    {
      "attachments": {},
      "cell_type": "markdown",
      "metadata": {
        "id": "bXyydu_6Snjm"
      },
      "source": [
        "# Export dei database ridotti"
      ]
    },
    {
      "cell_type": "code",
      "execution_count": null,
      "metadata": {
        "id": "sq1zKsV1SqYr"
      },
      "outputs": [],
      "source": [
        "comments.to_csv('comments_edited.csv')\n",
        "courses.to_csv('courses_edited.csv')"
      ]
    }
  ],
  "metadata": {
    "colab": {
      "provenance": [],
      "toc_visible": true
    },
    "kernelspec": {
      "display_name": "Python 3.10.7 64-bit",
      "language": "python",
      "name": "python3"
    },
    "language_info": {
      "codemirror_mode": {
        "name": "ipython",
        "version": 3
      },
      "file_extension": ".py",
      "mimetype": "text/x-python",
      "name": "python",
      "nbconvert_exporter": "python",
      "pygments_lexer": "ipython3",
      "version": "3.10.7 (tags/v3.10.7:6cc6b13, Sep  5 2022, 14:08:36) [MSC v.1933 64 bit (AMD64)]"
    },
    "vscode": {
      "interpreter": {
        "hash": "ba18286d27dd3f1705df4025c31d2b7021c67fcd01f023a6f194ed0db21ec453"
      }
    }
  },
  "nbformat": 4,
  "nbformat_minor": 0
}
