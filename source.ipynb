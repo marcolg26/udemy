{
  "cells": [
    {
      "attachments": {},
      "cell_type": "markdown",
      "metadata": {
        "id": "tNHCsT2oS9cg"
      },
      "source": [
        "# Caricamento dei database"
      ]
    },
    {
      "cell_type": "code",
      "execution_count": 2,
      "metadata": {
        "colab": {
          "base_uri": "https://localhost:8080/",
          "height": 458
        },
        "id": "HPX_PLogMav0",
        "outputId": "654a1850-b864-4498-eeea-5ac07c0183f6"
      },
      "outputs": [],
      "source": [
        "import pandas as pd\n",
        "import matplotlib.pyplot as plt\n",
        "import seaborn as sns\n",
        " \n",
        "comments = pd.read_csv(\"comments_edited.csv\")\n",
        "courses = pd.read_csv(\"courses_edited.csv\")\n",
        "\n"
      ]
    },
    {
      "attachments": {},
      "cell_type": "markdown",
      "metadata": {
        "id": "ouC2dfOGfSuF"
      },
      "source": [
        "# Query"
      ]
    },
    {
      "attachments": {},
      "cell_type": "markdown",
      "metadata": {
        "id": "X3Jf3BeFfaVO"
      },
      "source": [
        "## Languages\n",
        "\n",
        "Creazione di un dataframe contenente ogni lingua disponibile"
      ]
    },
    {
      "cell_type": "code",
      "execution_count": 4,
      "metadata": {
        "colab": {
          "base_uri": "https://localhost:8080/"
        },
        "id": "i4_Gi0v_eyRb",
        "outputId": "88400bf5-585d-4bc5-e60b-8023f564d79f"
      },
      "outputs": [
        {
          "data": {
            "text/plain": [
              "array(['English', 'Spanish', 'Turkish', 'Simplified Chinese', 'Arabic',\n",
              "       'Portuguese', 'Italian', 'Serbian', 'Afrikaans', 'French',\n",
              "       'Slovak', 'Japanese', 'Hebrew', 'Traditional Chinese', 'Estonian',\n",
              "       'German', 'Russian', 'Finnish', 'Dutch', 'Hungarian', 'Swedish',\n",
              "       'Norwegian', 'Thai', 'Bulgarian', 'Polish', 'Urdu', 'Croatian',\n",
              "       'Marathi', 'Danish', 'Greek', 'Hindi', 'Indonesian', 'Azeri',\n",
              "       'Vietnamese', 'Bengali', 'Persian', 'Malay', 'Korean', 'Filipino',\n",
              "       'Romanian', 'Catalan', 'Czech', 'Albanian', 'Telugu', 'Latvian',\n",
              "       'Ukrainian', 'Tamil', 'Somali', 'Burmese', 'Kazakh', 'Tatar',\n",
              "       'Kurdish', 'Aymara', 'Malayalam', 'Uzbek', 'Georgian',\n",
              "       'Lithuanian', 'Gujarati', 'Pashto', 'Haitian', 'Nepali',\n",
              "       'Armenian', 'Punjabi', 'Swahili', 'Mongolian', 'Slovenian', 'Zulu',\n",
              "       'Kannada', 'Guaraní', 'Quechua', 'Macedonian', 'Khmer', 'Frisian',\n",
              "       'Welsh', 'Irish', 'Basque', 'Xhosa', 'Tajik', 'Faroese'],\n",
              "      dtype=object)"
            ]
          },
          "execution_count": 4,
          "metadata": {},
          "output_type": "execute_result"
        }
      ],
      "source": [
        "courses[\"language\"].unique()"
      ]
    },
    {
      "cell_type": "code",
      "execution_count": 5,
      "metadata": {},
      "outputs": [
        {
          "data": {
            "text/plain": [
              "array(['Lifestyle', 'Business', 'Design', 'Health & Fitness',\n",
              "       'Finance & Accounting', 'Development', 'Marketing',\n",
              "       'Teaching & Academics', 'IT & Software', 'Office Productivity',\n",
              "       'Music', 'Personal Development', 'Photography & Video'],\n",
              "      dtype=object)"
            ]
          },
          "execution_count": 5,
          "metadata": {},
          "output_type": "execute_result"
        }
      ],
      "source": [
        "courses[\"category\"].unique()"
      ]
    }
  ],
  "metadata": {
    "colab": {
      "provenance": [],
      "toc_visible": true
    },
    "kernelspec": {
      "display_name": "Python 3.10.7 64-bit",
      "language": "python",
      "name": "python3"
    },
    "language_info": {
      "codemirror_mode": {
        "name": "ipython",
        "version": 3
      },
      "file_extension": ".py",
      "mimetype": "text/x-python",
      "name": "python",
      "nbconvert_exporter": "python",
      "pygments_lexer": "ipython3",
      "version": "3.10.7"
    },
    "vscode": {
      "interpreter": {
        "hash": "ba18286d27dd3f1705df4025c31d2b7021c67fcd01f023a6f194ed0db21ec453"
      }
    }
  },
  "nbformat": 4,
  "nbformat_minor": 0
}
